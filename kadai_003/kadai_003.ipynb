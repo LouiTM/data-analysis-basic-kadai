{
  "nbformat": 4,
  "nbformat_minor": 0,
  "metadata": {
    "colab": {
      "provenance": []
    },
    "kernelspec": {
      "name": "python3",
      "display_name": "Python 3"
    },
    "language_info": {
      "name": "python"
    }
  },
  "cells": [
    {
      "cell_type": "code",
      "execution_count": 9,
      "metadata": {
        "colab": {
          "base_uri": "https://localhost:8080/"
        },
        "id": "qeISepNdwF_y",
        "outputId": "6657cc2d-8c89-4e62-96eb-84328f0d8c43"
      },
      "outputs": [
        {
          "output_type": "stream",
          "name": "stdout",
          "text": [
            "[[ 4  5  6  7]\n",
            " [12 17 22 27]\n",
            " [20 29 38 47]]\n",
            "47\n"
          ]
        }
      ],
      "source": [
        "import numpy as np\n",
        "\n",
        "A = np.array([[0,1],[2,3],[4,5]])\n",
        "B = np.array([[0,1,2,3],[4,5,6,7]])\n",
        "\n",
        "C = np.dot(A,B)\n",
        "\n",
        "print(C)\n",
        "\n",
        "c_max = C.max()\n",
        "print(c_max)"
      ]
    }
  ]
}